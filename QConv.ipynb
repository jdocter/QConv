{
 "cells": [
  {
   "cell_type": "markdown",
   "id": "8d21c05a",
   "metadata": {},
   "source": [
    "# Quantum Convolution"
   ]
  },
  {
   "cell_type": "code",
   "execution_count": 27,
   "id": "b5c40bdf",
   "metadata": {},
   "outputs": [],
   "source": [
    "import cirq\n",
    "import IPython\n",
    "import pandas as pd\n",
    "\n",
    "from pylab import plot, show, axis, subplot, xlabel, ylabel, grid\n",
    "\n",
    "# visualization tools\n",
    "import seaborn as sns\n",
    "import pandas as pd\n",
    "%matplotlib inline\n",
    "import matplotlib.pyplot as plt\n",
    "from cirq.contrib.svg import SVGCircuit\n",
    "import IPython\n",
    "from matplotlib.figure import Figure\n",
    "from matplotlib.ticker import MaxNLocator\n",
    "\n",
    "InteractiveShell = IPython.core.interactiveshell.InteractiveShell\n",
    "InteractiveShell.ast_node_interactivity = \"all\"\n",
    "plt.rcParams['figure.figsize'] = [10, 5]"
   ]
  },
  {
   "cell_type": "code",
   "execution_count": 236,
   "id": "f834dc22",
   "metadata": {
    "scrolled": false
   },
   "outputs": [],
   "source": [
    "def make_full_adder(a,b,s,g,c):\n",
    "    yield cirq.X(g)\n",
    "    yield cirq.CSWAP(a, s, g)\n",
    "    yield cirq.CSWAP(b, s, g)\n",
    "    yield cirq.CSWAP(c, s, g)\n",
    "    yield cirq.CSWAP(s, c, g)\n",
    "    yield cirq.CSWAP(b, c, g)\n",
    "\n",
    "def make_adder(A,B,S,G,c):\n",
    "    for i in range(len(A)-1,-1,-1):\n",
    "        a = A[i]\n",
    "        b = B[i]\n",
    "        s = S[i]\n",
    "        g = G[i]\n",
    "        yield make_full_adder(a,b,s,g,c)\n",
    "\n",
    "def start(A,B,astart,bstart):\n",
    "    for i in range(len(A)):\n",
    "        a = A[i]\n",
    "        b = B[i]\n",
    "        if astart[i] == \"1\": yield cirq.X(a)\n",
    "        if bstart[i] == \"1\": yield cirq.X(b)\n",
    "            \n",
    "def simulate_comp_basis(circuit,n,reps=50000):\n",
    "    sim = cirq.Simulator()\n",
    "    results = sim.run(circuit,repetitions=reps).measurements['sum']\n",
    "    to_binary = np.tile([[2**(n-i-1) for i in range(0,n)]],[reps,1])\n",
    "    results = np.multiply(results, to_binary).sum(axis=1)\n",
    "    results = pd.Series(results.flatten()).value_counts()\n",
    "    results = results/results.sum()\n",
    "    fig, ax = plt.subplots()\n",
    "    # take square of probabilities to get amplitudes assuming real amplitudes\n",
    "    ax.stem(results.index, np.sqrt(results.to_numpy()),basefmt=\" \")   \n",
    "    plt.xlabel('Amplitude')\n",
    "    plt.ylabel('State')\n",
    "    plt.xlim([-1,2**n])\n",
    "    plt.show()\n",
    "    return results\n",
    "\n",
    "        "
   ]
  },
  {
   "cell_type": "markdown",
   "id": "cdd73fcc",
   "metadata": {},
   "source": [
    "## Check addition works"
   ]
  },
  {
   "cell_type": "code",
   "execution_count": 238,
   "id": "fc1e5d18",
   "metadata": {},
   "outputs": [
    {
     "data": {
      "image/svg+xml": [
       "<svg xmlns=\"http://www.w3.org/2000/svg\" width=\"801.2353515625\" height=\"490.0\"><line x1=\"30.0\" x2=\"771.2353515625\" y1=\"45.0\" y2=\"45.0\" stroke=\"#1967d2\" stroke-width=\"1\" /><line x1=\"30.0\" x2=\"771.2353515625\" y1=\"95.0\" y2=\"95.0\" stroke=\"#1967d2\" stroke-width=\"1\" /><line x1=\"30.0\" x2=\"771.2353515625\" y1=\"145.0\" y2=\"145.0\" stroke=\"#1967d2\" stroke-width=\"1\" /><line x1=\"30.0\" x2=\"771.2353515625\" y1=\"195.0\" y2=\"195.0\" stroke=\"#1967d2\" stroke-width=\"1\" /><line x1=\"30.0\" x2=\"771.2353515625\" y1=\"245.0\" y2=\"245.0\" stroke=\"#1967d2\" stroke-width=\"1\" /><line x1=\"30.0\" x2=\"771.2353515625\" y1=\"295.0\" y2=\"295.0\" stroke=\"#1967d2\" stroke-width=\"1\" /><line x1=\"30.0\" x2=\"771.2353515625\" y1=\"345.0\" y2=\"345.0\" stroke=\"#1967d2\" stroke-width=\"1\" /><line x1=\"30.0\" x2=\"771.2353515625\" y1=\"395.0\" y2=\"395.0\" stroke=\"#1967d2\" stroke-width=\"1\" /><line x1=\"30.0\" x2=\"771.2353515625\" y1=\"445.0\" y2=\"445.0\" stroke=\"#1967d2\" stroke-width=\"1\" /><line x1=\"220.0\" x2=\"310.0\" y1=\"5.0\" y2=\"5.0\" stroke=\"black\" stroke-width=\"1\" /><line x1=\"220.0\" x2=\"310.0\" y1=\"485.0\" y2=\"485.0\" stroke=\"black\" stroke-width=\"1\" /><line x1=\"120.0\" x2=\"210.0\" y1=\"5.0\" y2=\"5.0\" stroke=\"black\" stroke-width=\"1\" /><line x1=\"120.0\" x2=\"210.0\" y1=\"485.0\" y2=\"485.0\" stroke=\"black\" stroke-width=\"1\" /><line x1=\"140.0\" x2=\"140.0\" y1=\"95.0\" y2=\"395.0\" stroke=\"black\" stroke-width=\"3\" /><line x1=\"180.0\" x2=\"180.0\" y1=\"45.0\" y2=\"345.0\" stroke=\"black\" stroke-width=\"3\" /><line x1=\"240.0\" x2=\"240.0\" y1=\"195.0\" y2=\"395.0\" stroke=\"black\" stroke-width=\"3\" /><line x1=\"280.0\" x2=\"280.0\" y1=\"145.0\" y2=\"345.0\" stroke=\"black\" stroke-width=\"3\" /><line x1=\"350.0\" x2=\"350.0\" y1=\"295.0\" y2=\"445.0\" stroke=\"black\" stroke-width=\"3\" /><line x1=\"410.0\" x2=\"410.0\" y1=\"295.0\" y2=\"445.0\" stroke=\"black\" stroke-width=\"3\" /><line x1=\"470.0\" x2=\"470.0\" y1=\"195.0\" y2=\"445.0\" stroke=\"black\" stroke-width=\"3\" /><line x1=\"530.0\" x2=\"530.0\" y1=\"245.0\" y2=\"445.0\" stroke=\"black\" stroke-width=\"3\" /><line x1=\"590.0\" x2=\"590.0\" y1=\"245.0\" y2=\"445.0\" stroke=\"black\" stroke-width=\"3\" /><line x1=\"650.0\" x2=\"650.0\" y1=\"145.0\" y2=\"445.0\" stroke=\"black\" stroke-width=\"3\" /><line x1=\"720.61767578125\" x2=\"720.61767578125\" y1=\"245.0\" y2=\"445.0\" stroke=\"black\" stroke-width=\"3\" /><line x1=\"220.0\" x2=\"220.0\" y1=\"5.0\" y2=\"15.0\" stroke=\"black\" stroke-width=\"3\" /><line x1=\"310.0\" x2=\"310.0\" y1=\"5.0\" y2=\"15.0\" stroke=\"black\" stroke-width=\"3\" /><line x1=\"220.0\" x2=\"220.0\" y1=\"475.0\" y2=\"485.0\" stroke=\"black\" stroke-width=\"3\" /><line x1=\"310.0\" x2=\"310.0\" y1=\"475.0\" y2=\"485.0\" stroke=\"black\" stroke-width=\"3\" /><line x1=\"120.0\" x2=\"120.0\" y1=\"5.0\" y2=\"15.0\" stroke=\"black\" stroke-width=\"3\" /><line x1=\"210.0\" x2=\"210.0\" y1=\"5.0\" y2=\"15.0\" stroke=\"black\" stroke-width=\"3\" /><line x1=\"120.0\" x2=\"120.0\" y1=\"475.0\" y2=\"485.0\" stroke=\"black\" stroke-width=\"3\" /><line x1=\"210.0\" x2=\"210.0\" y1=\"475.0\" y2=\"485.0\" stroke=\"black\" stroke-width=\"3\" /><rect x=\"10.0\" y=\"25.0\" width=\"40\" height=\"40\" stroke=\"black\" fill=\"white\" stroke-width=\"0\" /><text x=\"30.0\" y=\"45.0\" dominant-baseline=\"middle\" text-anchor=\"middle\" font-size=\"14px\" font-family=\"Arial\">0: </text><rect x=\"10.0\" y=\"75.0\" width=\"40\" height=\"40\" stroke=\"black\" fill=\"white\" stroke-width=\"0\" /><text x=\"30.0\" y=\"95.0\" dominant-baseline=\"middle\" text-anchor=\"middle\" font-size=\"14px\" font-family=\"Arial\">1: </text><rect x=\"10.0\" y=\"125.0\" width=\"40\" height=\"40\" stroke=\"black\" fill=\"white\" stroke-width=\"0\" /><text x=\"30.0\" y=\"145.0\" dominant-baseline=\"middle\" text-anchor=\"middle\" font-size=\"14px\" font-family=\"Arial\">2: </text><rect x=\"10.0\" y=\"175.0\" width=\"40\" height=\"40\" stroke=\"black\" fill=\"white\" stroke-width=\"0\" /><text x=\"30.0\" y=\"195.0\" dominant-baseline=\"middle\" text-anchor=\"middle\" font-size=\"14px\" font-family=\"Arial\">3: </text><rect x=\"10.0\" y=\"225.0\" width=\"40\" height=\"40\" stroke=\"black\" fill=\"white\" stroke-width=\"0\" /><text x=\"30.0\" y=\"245.0\" dominant-baseline=\"middle\" text-anchor=\"middle\" font-size=\"14px\" font-family=\"Arial\">4: </text><rect x=\"10.0\" y=\"275.0\" width=\"40\" height=\"40\" stroke=\"black\" fill=\"white\" stroke-width=\"0\" /><text x=\"30.0\" y=\"295.0\" dominant-baseline=\"middle\" text-anchor=\"middle\" font-size=\"14px\" font-family=\"Arial\">5: </text><rect x=\"10.0\" y=\"325.0\" width=\"40\" height=\"40\" stroke=\"black\" fill=\"white\" stroke-width=\"0\" /><text x=\"30.0\" y=\"345.0\" dominant-baseline=\"middle\" text-anchor=\"middle\" font-size=\"14px\" font-family=\"Arial\">6: </text><rect x=\"10.0\" y=\"375.0\" width=\"40\" height=\"40\" stroke=\"black\" fill=\"white\" stroke-width=\"0\" /><text x=\"30.0\" y=\"395.0\" dominant-baseline=\"middle\" text-anchor=\"middle\" font-size=\"14px\" font-family=\"Arial\">7: </text><rect x=\"10.0\" y=\"425.0\" width=\"40\" height=\"40\" stroke=\"black\" fill=\"white\" stroke-width=\"0\" /><text x=\"30.0\" y=\"445.0\" dominant-baseline=\"middle\" text-anchor=\"middle\" font-size=\"14px\" font-family=\"Arial\">8: </text><rect x=\"70.0\" y=\"25.0\" width=\"40\" height=\"40\" stroke=\"black\" fill=\"white\" stroke-width=\"1\" /><text x=\"90.0\" y=\"45.0\" dominant-baseline=\"middle\" text-anchor=\"middle\" font-size=\"18px\" font-family=\"Arial\">X</text><rect x=\"70.0\" y=\"75.0\" width=\"40\" height=\"40\" stroke=\"black\" fill=\"white\" stroke-width=\"1\" /><text x=\"90.0\" y=\"95.0\" dominant-baseline=\"middle\" text-anchor=\"middle\" font-size=\"18px\" font-family=\"Arial\">X</text><rect x=\"70.0\" y=\"175.0\" width=\"40\" height=\"40\" stroke=\"black\" fill=\"white\" stroke-width=\"1\" /><text x=\"90.0\" y=\"195.0\" dominant-baseline=\"middle\" text-anchor=\"middle\" font-size=\"18px\" font-family=\"Arial\">X</text><rect x=\"70.0\" y=\"375.0\" width=\"40\" height=\"40\" stroke=\"black\" fill=\"white\" stroke-width=\"1\" /><text x=\"90.0\" y=\"395.0\" dominant-baseline=\"middle\" text-anchor=\"middle\" font-size=\"18px\" font-family=\"Arial\">X</text><rect x=\"70.0\" y=\"325.0\" width=\"40\" height=\"40\" stroke=\"black\" fill=\"white\" stroke-width=\"1\" /><text x=\"90.0\" y=\"345.0\" dominant-baseline=\"middle\" text-anchor=\"middle\" font-size=\"18px\" font-family=\"Arial\">X</text><circle cx=\"140.0\" cy=\"95.0\" r=\"10.0\" /><text x=\"140.0\" y=\"298.0\" dominant-baseline=\"middle\" text-anchor=\"middle\" font-size=\"40px\" font-family=\"Arial\">×</text><text x=\"140.0\" y=\"398.0\" dominant-baseline=\"middle\" text-anchor=\"middle\" font-size=\"40px\" font-family=\"Arial\">×</text><circle cx=\"180.0\" cy=\"45.0\" r=\"10.0\" /><text x=\"180.0\" y=\"248.0\" dominant-baseline=\"middle\" text-anchor=\"middle\" font-size=\"40px\" font-family=\"Arial\">×</text><text x=\"180.0\" y=\"348.0\" dominant-baseline=\"middle\" text-anchor=\"middle\" font-size=\"40px\" font-family=\"Arial\">×</text><circle cx=\"240.0\" cy=\"195.0\" r=\"10.0\" /><text x=\"240.0\" y=\"298.0\" dominant-baseline=\"middle\" text-anchor=\"middle\" font-size=\"40px\" font-family=\"Arial\">×</text><text x=\"240.0\" y=\"398.0\" dominant-baseline=\"middle\" text-anchor=\"middle\" font-size=\"40px\" font-family=\"Arial\">×</text><circle cx=\"280.0\" cy=\"145.0\" r=\"10.0\" /><text x=\"280.0\" y=\"248.0\" dominant-baseline=\"middle\" text-anchor=\"middle\" font-size=\"40px\" font-family=\"Arial\">×</text><text x=\"280.0\" y=\"348.0\" dominant-baseline=\"middle\" text-anchor=\"middle\" font-size=\"40px\" font-family=\"Arial\">×</text><circle cx=\"350.0\" cy=\"445.0\" r=\"10.0\" /><text x=\"350.0\" y=\"298.0\" dominant-baseline=\"middle\" text-anchor=\"middle\" font-size=\"40px\" font-family=\"Arial\">×</text><text x=\"350.0\" y=\"398.0\" dominant-baseline=\"middle\" text-anchor=\"middle\" font-size=\"40px\" font-family=\"Arial\">×</text><circle cx=\"410.0\" cy=\"295.0\" r=\"10.0\" /><text x=\"410.0\" y=\"448.0\" dominant-baseline=\"middle\" text-anchor=\"middle\" font-size=\"40px\" font-family=\"Arial\">×</text><text x=\"410.0\" y=\"398.0\" dominant-baseline=\"middle\" text-anchor=\"middle\" font-size=\"40px\" font-family=\"Arial\">×</text><circle cx=\"470.0\" cy=\"195.0\" r=\"10.0\" /><text x=\"470.0\" y=\"448.0\" dominant-baseline=\"middle\" text-anchor=\"middle\" font-size=\"40px\" font-family=\"Arial\">×</text><text x=\"470.0\" y=\"398.0\" dominant-baseline=\"middle\" text-anchor=\"middle\" font-size=\"40px\" font-family=\"Arial\">×</text><circle cx=\"530.0\" cy=\"445.0\" r=\"10.0\" /><text x=\"530.0\" y=\"248.0\" dominant-baseline=\"middle\" text-anchor=\"middle\" font-size=\"40px\" font-family=\"Arial\">×</text><text x=\"530.0\" y=\"348.0\" dominant-baseline=\"middle\" text-anchor=\"middle\" font-size=\"40px\" font-family=\"Arial\">×</text><circle cx=\"590.0\" cy=\"245.0\" r=\"10.0\" /><text x=\"590.0\" y=\"448.0\" dominant-baseline=\"middle\" text-anchor=\"middle\" font-size=\"40px\" font-family=\"Arial\">×</text><text x=\"590.0\" y=\"348.0\" dominant-baseline=\"middle\" text-anchor=\"middle\" font-size=\"40px\" font-family=\"Arial\">×</text><circle cx=\"650.0\" cy=\"145.0\" r=\"10.0\" /><text x=\"650.0\" y=\"448.0\" dominant-baseline=\"middle\" text-anchor=\"middle\" font-size=\"40px\" font-family=\"Arial\">×</text><text x=\"650.0\" y=\"348.0\" dominant-baseline=\"middle\" text-anchor=\"middle\" font-size=\"40px\" font-family=\"Arial\">×</text><rect x=\"690.0\" y=\"425.0\" width=\"61.2353515625\" height=\"40\" stroke=\"black\" fill=\"white\" stroke-width=\"1\" /><text x=\"720.61767578125\" y=\"445.0\" dominant-baseline=\"middle\" text-anchor=\"middle\" font-size=\"14px\" font-family=\"Arial\">M('sum')</text><rect x=\"690.0\" y=\"225.0\" width=\"61.2353515625\" height=\"40\" stroke=\"black\" fill=\"white\" stroke-width=\"1\" /><text x=\"720.61767578125\" y=\"245.0\" dominant-baseline=\"middle\" text-anchor=\"middle\" font-size=\"18px\" font-family=\"Arial\">M</text><rect x=\"690.0\" y=\"275.0\" width=\"61.2353515625\" height=\"40\" stroke=\"black\" fill=\"white\" stroke-width=\"1\" /><text x=\"720.61767578125\" y=\"295.0\" dominant-baseline=\"middle\" text-anchor=\"middle\" font-size=\"18px\" font-family=\"Arial\">M</text></svg>"
      ],
      "text/plain": [
       "<cirq.contrib.svg.svg.SVGCircuit at 0x7fc5bc76a6a0>"
      ]
     },
     "execution_count": 238,
     "metadata": {},
     "output_type": "execute_result"
    },
    {
     "data": {
      "image/png": "[encoded data removed]",
      "text/plain": [
       "<Figure size 720x360 with 1 Axes>"
      ]
     },
     "metadata": {
      "needs_background": "light"
     },
     "output_type": "display_data"
    },
    {
     "data": {
      "text/plain": [
       "4    1.0\n",
       "dtype: float64"
      ]
     },
     "execution_count": 238,
     "metadata": {},
     "output_type": "execute_result"
    },
    {
     "data": {
      "image/png": "[encoded data removed]",
      "text/plain": [
       "<Figure size 720x360 with 1 Axes>"
      ]
     },
     "metadata": {
      "needs_background": "light"
     },
     "output_type": "display_data"
    },
    {
     "data": {
      "text/plain": [
       "3    1.0\n",
       "dtype: float64"
      ]
     },
     "execution_count": 238,
     "metadata": {},
     "output_type": "execute_result"
    },
    {
     "data": {
      "image/png": "[encoded data removed]",
      "text/plain": [
       "<Figure size 720x360 with 1 Axes>"
      ]
     },
     "metadata": {
      "needs_background": "light"
     },
     "output_type": "display_data"
    },
    {
     "data": {
      "text/plain": [
       "1    1.0\n",
       "dtype: float64"
      ]
     },
     "execution_count": 238,
     "metadata": {},
     "output_type": "execute_result"
    }
   ],
   "source": [
    "n = 2\n",
    "qubits = cirq.LineQubit.range(n*4+1)\n",
    "a = qubits[0:n]\n",
    "b = qubits[n:2*n]\n",
    "s = qubits[2*n:3*n]\n",
    "g = qubits[3*n:4*n]\n",
    "c = qubits[4*n]\n",
    "\n",
    "adder = cirq.Circuit(start(a,b,\"11\",\"01\"))\n",
    "adder.append(make_adder(a,b,s,g,c))\n",
    "adder.append(cirq.measure(*([c]+s), key='sum'))\n",
    "SVGCircuit(adder)\n",
    "\n",
    "simulate_comp_basis(adder,n+1)\n",
    "\n",
    "# plot a\n",
    "qubits = cirq.LineQubit.range(n*4+1)\n",
    "a = qubits[0:n]\n",
    "b = qubits[n:2*n]\n",
    "s = qubits[2*n:3*n]\n",
    "g = qubits[3*n:4*n]\n",
    "c = cirq.Circuit(start(a,b,\"11\",\"01\"), cirq.measure(*a, key='sum'))\n",
    "simulate_comp_basis(c,n)\n",
    "# plot a\n",
    "qubits = cirq.LineQubit.range(n*4+1)\n",
    "a = qubits[0:n]\n",
    "b = qubits[n:2*n]\n",
    "s = qubits[2*n:3*n]\n",
    "g = qubits[3*n:4*n]\n",
    "c = cirq.Circuit(start(a,b,\"11\",\"01\"), cirq.measure(*b, key='sum'))\n",
    "simulate_comp_basis(c,n)"
   ]
  },
  {
   "cell_type": "markdown",
   "id": "fba37509",
   "metadata": {},
   "source": [
    "## Helper function to create initial signal state"
   ]
  },
  {
   "cell_type": "code",
   "execution_count": 241,
   "id": "a9c8d444",
   "metadata": {},
   "outputs": [
    {
     "data": {
      "image/png": "[encoded data removed]",
      "text/plain": [
       "<Figure size 720x360 with 1 Axes>"
      ]
     },
     "metadata": {
      "needs_background": "light"
     },
     "output_type": "display_data"
    },
    {
     "data": {
      "text/plain": [
       "0    0.50140\n",
       "1    0.25228\n",
       "2    0.24632\n",
       "dtype: float64"
      ]
     },
     "execution_count": 241,
     "metadata": {},
     "output_type": "execute_result"
    }
   ],
   "source": [
    "class ToSignal(cirq.Gate):\n",
    "    def __init__(self, signal, n):\n",
    "        super(ToSignal, self)\n",
    "        assert len(signal) == 2 ** n\n",
    "        self.n = n\n",
    "        self.signal = np.array(signal)\n",
    "        self.signal = self.signal/np.sqrt(np.sum(self.signal ** 2))\n",
    "\n",
    "    def _num_qubits_(self):\n",
    "        return self.n\n",
    "\n",
    "    def _unitary_(self):\n",
    "        u = np.identity(2 ** self.n)\n",
    "        u[:,0] = self.signal\n",
    "        return u\n",
    "\n",
    "    def _circuit_diagram_info_(self, args):\n",
    "        return \"G\"\n",
    "\n",
    "s = ToSignal([1/np.sqrt(2), 1/2, 1/2, 0], 2)\n",
    "q = cirq.LineQubit.range(2)\n",
    "c = cirq.Circuit(s.on(q[0],q[1]), cirq.measure(*q, key='sum'))\n",
    "simulate_comp_basis(c,2)"
   ]
  },
  {
   "cell_type": "code",
   "execution_count": 235,
   "id": "b5903d74",
   "metadata": {
    "scrolled": false
   },
   "outputs": [
    {
     "data": {
      "text/plain": [
       "<StemContainer object of 3 artists>"
      ]
     },
     "execution_count": 235,
     "metadata": {},
     "output_type": "execute_result"
    },
    {
     "data": {
      "text/plain": [
       "(-1.0, 64.0)"
      ]
     },
     "execution_count": 235,
     "metadata": {},
     "output_type": "execute_result"
    },
    {
     "data": {
      "image/png": "[encoded data removed]",
      "text/plain": [
       "<Figure size 720x360 with 1 Axes>"
      ]
     },
     "metadata": {
      "needs_background": "light"
     },
     "output_type": "display_data"
    },
    {
     "data": {
      "text/plain": [
       "<StemContainer object of 3 artists>"
      ]
     },
     "execution_count": 235,
     "metadata": {},
     "output_type": "execute_result"
    },
    {
     "data": {
      "text/plain": [
       "(-1.0, 64.0)"
      ]
     },
     "execution_count": 235,
     "metadata": {},
     "output_type": "execute_result"
    },
    {
     "data": {
      "image/png": "[encoded data removed]",
      "text/plain": [
       "<Figure size 720x360 with 1 Axes>"
      ]
     },
     "metadata": {
      "needs_background": "light"
     },
     "output_type": "display_data"
    },
    {
     "data": {
      "text/plain": [
       "<StemContainer object of 3 artists>"
      ]
     },
     "execution_count": 235,
     "metadata": {},
     "output_type": "execute_result"
    },
    {
     "data": {
      "text/plain": [
       "(-1.0, 64.0)"
      ]
     },
     "execution_count": 235,
     "metadata": {},
     "output_type": "execute_result"
    },
    {
     "data": {
      "image/png": "[encoded data removed]",
      "text/plain": [
       "<Figure size 720x360 with 1 Axes>"
      ]
     },
     "metadata": {
      "needs_background": "light"
     },
     "output_type": "display_data"
    },
    {
     "data": {
      "image/png": "[encoded data removed]",
      "text/plain": [
       "<Figure size 720x360 with 1 Axes>"
      ]
     },
     "metadata": {
      "needs_background": "light"
     },
     "output_type": "display_data"
    },
    {
     "data": {
      "text/plain": [
       "48    0.027646\n",
       "16    0.027578\n",
       "0     0.027452\n",
       "47    0.026958\n",
       "32    0.026854\n",
       "        ...   \n",
       "39    0.004502\n",
       "56    0.003908\n",
       "24    0.003740\n",
       "40    0.003682\n",
       "8     0.003588\n",
       "Length: 64, dtype: float64"
      ]
     },
     "execution_count": 235,
     "metadata": {},
     "output_type": "execute_result"
    }
   ],
   "source": [
    "n = 6\n",
    "\n",
    "# signal_a = [4,3,2,1]\n",
    "\n",
    "signal_a = [np.sinc(x/4) for x in range(-2**(n-1),2**(n-1))]\n",
    "signal_b = [np.cos(x*np.pi/16)*np.cos(x*np.pi/2) for x in range(-2**(n-1),2**(n-1))]\n",
    "\n",
    "signal_a = np.array(signal_a + [0]*(2**n - len(signal_a)))\n",
    "signal_b = np.array(signal_b + [0]*(2**n - len(signal_b)))\n",
    "\n",
    "signal_a = signal_a/np.sqrt(np.sum(signal_a ** 2))\n",
    "signal_b = signal_b/np.sqrt(np.sum(signal_b ** 2))\n",
    "\n",
    "\n",
    "fig, ax = plt.subplots()\n",
    "ax.stem(signal_a,basefmt=\" \")\n",
    "plt.xlim([-1,2**(n)])\n",
    "plt.show()\n",
    "\n",
    "fig, ax = plt.subplots()\n",
    "ax.stem(signal_b,basefmt=\" \")\n",
    "plt.xlim([-1,2**(n)])\n",
    "plt.show()\n",
    "\n",
    "\n",
    "# a conv b\n",
    "qubits = cirq.LineQubit.range(n*4+1)\n",
    "a = qubits[0:n]\n",
    "b = qubits[n:2*n]\n",
    "s = qubits[2*n:3*n]\n",
    "g = qubits[3*n:4*n]\n",
    "c = qubits[4*n]\n",
    "\n",
    "\n",
    "adder = cirq.Circuit(\n",
    "    ToSignal(signal_a, n).on(*a),\n",
    "    ToSignal(signal_b, n).on(*b)\n",
    ")\n",
    "adder.append(make_adder(a,b,s,g,c))\n",
    "adder.append(cirq.measure(*(s), key='sum'))\n",
    "\n",
    "simulate_comp_basis(adder,n,reps=500000)"
   ]
  }
 ],
 "metadata": {
  "kernelspec": {
   "display_name": "Python 3",
   "language": "python",
   "name": "python3"
  },
  "language_info": {
   "codemirror_mode": {
    "name": "ipython",
    "version": 3
   },
   "file_extension": ".py",
   "mimetype": "text/x-python",
   "name": "python",
   "nbconvert_exporter": "python",
   "pygments_lexer": "ipython3",
   "version": "3.8.8"
  },
  "varInspector": {
   "cols": {
    "lenName": 16,
    "lenType": 16,
    "lenVar": 40
   },
   "kernels_config": {
    "python": {
     "delete_cmd_postfix": "",
     "delete_cmd_prefix": "del ",
     "library": "var_list.py",
     "varRefreshCmd": "print(var_dic_list())"
    },
    "r": {
     "delete_cmd_postfix": ") ",
     "delete_cmd_prefix": "rm(",
     "library": "var_list.r",
     "varRefreshCmd": "cat(var_dic_list()) "
    }
   },
   "types_to_exclude": [
    "module",
    "function",
    "builtin_function_or_method",
    "instance",
    "_Feature"
   ],
   "window_display": false
  }
 },
 "nbformat": 4,
 "nbformat_minor": 5
}
